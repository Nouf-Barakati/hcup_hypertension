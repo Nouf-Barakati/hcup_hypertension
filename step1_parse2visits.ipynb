{
 "cells": [
  {
   "cell_type": "code",
   "execution_count": null,
   "metadata": {},
   "outputs": [],
   "source": [
    "# input: patient records:\n",
    "#                       each record has the patient ID, race, female,  and the list of all visits seperated by #\n",
    "#                       each visit record  hase DaysToEvent, age, list of icd 9 codes and year\n",
    "# output: patient visit records:\n",
    "#                       patientID, Race, Female, DaysToEvent, Age,year, list of icd9 codes entered at that visit\n"
   ]
  },
  {
   "cell_type": "code",
   "execution_count": null,
   "metadata": {},
   "outputs": [],
   "source": [
    "import pandas as pd\n",
    "import numpy as np\n",
    "import time\n",
    "import re\n",
    "import os"
   ]
  },
  {
   "cell_type": "code",
   "execution_count": null,
   "metadata": {},
   "outputs": [],
   "source": [
    "pd.set_option('display.max_rows', 500)\n",
    "pd.set_option('display.max_columns', 5000)\n",
    "pd.set_option('display.width', 50000)\n"
   ]
  },
  {
   "cell_type": "code",
   "execution_count": null,
   "metadata": {},
   "outputs": [],
   "source": []
  },
  {
   "cell_type": "code",
   "execution_count": null,
   "metadata": {},
   "outputs": [],
   "source": [
    "#filename = \"HCUP_2003_to_2011_Patient_to_Visits.csv\"\n",
    "filename = \"hcup_data\\HCUP_2003_to_2011_Patient_to_Visits_withoutLine40.csv\"\n",
    "outfile = \"hcup_data\\HCUP_2003_to_2011_Patient_visits.csv\""
   ]
  },
  {
   "cell_type": "code",
   "execution_count": null,
   "metadata": {},
   "outputs": [],
   "source": []
  },
  {
   "cell_type": "code",
   "execution_count": null,
   "metadata": {},
   "outputs": [],
   "source": [
    "def ParsePatientsFile( infile, outfile, bunchsize = 100000):\n",
    "    bunch = []\n",
    "    counter = 0\n",
    "    file_length = 0\n",
    "    tic = time.perf_counter()\n",
    "    with open(infile, \"r\") as r, open(outfile, \"w\") as w:\n",
    "        for line in r:\n",
    "            #print(line)\n",
    "            counter +=1\n",
    "            data = line.split(\"|\")\n",
    "            code1, code2 = data[1].split(\",\")\n",
    "            dxlist = data[2].split(\"#\")\n",
    "            l = len(dxlist)\n",
    "            file_length += l\n",
    "            for i in range(l):\n",
    "                dx = dxlist[i].split(\",\")\n",
    "                dxlist_codes = ' '.join(dx[2:-2])\n",
    "                year = dx[-1].replace(\"\\n\", \"\")\n",
    "                if i==0 :\n",
    "                    day0 = dx[0]\n",
    "                record = ','.join((data[0],code1,code2,str(int(dx[0])-int(day0)),dx[1],year,dxlist_codes))+ '\\n' \n",
    "                bunch.append(record)\n",
    "                #print(record)\n",
    "            if counter == bunchsize:\n",
    "                w.writelines(bunch)\n",
    "                bunch = []\n",
    "                counter = 0\n",
    "        w.writelines(bunch)\n",
    "    toc = time.perf_counter()\n",
    "    print(f\"Processed 11 million patients in  {toc - tic:0.4f} seconds\") \n",
    "    print(\"number of visit records is: \", str(file_length))\n"
   ]
  },
  {
   "cell_type": "code",
   "execution_count": null,
   "metadata": {},
   "outputs": [],
   "source": [
    "ParsePatientsFile(filename, outfile, 10000)\n"
   ]
  },
  {
   "cell_type": "code",
   "execution_count": null,
   "metadata": {},
   "outputs": [],
   "source": [
    "def check_file_lines_counter_writing_speed(infile,outfile):\n",
    "    tic = time.perf_counter()\n",
    "    counter = 0\n",
    "    with open(outfile, 'w') as out_file, open(infile, 'r') as in_file:\n",
    "            for line in in_file:\n",
    "                #print(line)\n",
    "                counter +=1\n",
    "                out_file.write(line)\n",
    "    toc = time.perf_counter()\n",
    "    print(f\"writing in {toc - tic:0.4f} seconds\") \n",
    "    print(\"number of records is: \", str(counter))\n"
   ]
  },
  {
   "cell_type": "code",
   "execution_count": null,
   "metadata": {},
   "outputs": [],
   "source": [
    "infile = \"hcup_data\\HCUP_2003_to_2011_Patient_visits.csv\"\n",
    "#infile = \"hcup_data\\HCUP_2003_to_2011_Patient_to_Visits_withoutLine40.csv\"\n",
    "outfile = \"data_test.csv\""
   ]
  },
  {
   "cell_type": "code",
   "execution_count": null,
   "metadata": {},
   "outputs": [],
   "source": [
    "check_file_lines_counter_writing_speed(infile,outfile)"
   ]
  },
  {
   "cell_type": "code",
   "execution_count": null,
   "metadata": {},
   "outputs": [],
   "source": []
  },
  {
   "cell_type": "code",
   "execution_count": null,
   "metadata": {},
   "outputs": [],
   "source": []
  },
  {
   "cell_type": "code",
   "execution_count": null,
   "metadata": {},
   "outputs": [],
   "source": []
  }
 ],
 "metadata": {
  "kernelspec": {
   "display_name": "Python 3",
   "language": "python",
   "name": "python3"
  },
  "language_info": {
   "codemirror_mode": {
    "name": "ipython",
    "version": 3
   },
   "file_extension": ".py",
   "mimetype": "text/x-python",
   "name": "python",
   "nbconvert_exporter": "python",
   "pygments_lexer": "ipython3",
   "version": "3.8.5"
  }
 },
 "nbformat": 4,
 "nbformat_minor": 4
}
