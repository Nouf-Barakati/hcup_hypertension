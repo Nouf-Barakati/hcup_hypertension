{
 "cells": [
  {
   "cell_type": "code",
   "execution_count": null,
   "metadata": {},
   "outputs": [],
   "source": [
    "# input: patient records:\n",
    "#         each record has the patient ID, race, female,  and the list of all visits seperated by #\n",
    "#         each visit record  hase DaysToEvent, age, list of icd 9 codes and year\n",
    "# output: patient visit records:\n",
    "#       patientID, Race, Female, DaysToEvent, Age,year, list of icd9 codes entered at that visit,hot-code representation of Dxs \n"
   ]
  },
  {
   "cell_type": "code",
   "execution_count": null,
   "metadata": {},
   "outputs": [],
   "source": [
    "# enter the outfile name and  dx code to extract all patient who has it in any of the visits\n",
    "# return the number of patients and the total nuber of vists for all\n",
    "# enter the type of the encodeing (120, 1K)\n"
   ]
  },
  {
   "cell_type": "code",
   "execution_count": null,
   "metadata": {},
   "outputs": [],
   "source": [
    "import pandas as pd\n",
    "import numpy as np\n",
    "import time\n",
    "import re\n",
    "import os\n",
    "from operator import add"
   ]
  },
  {
   "cell_type": "code",
   "execution_count": null,
   "metadata": {},
   "outputs": [],
   "source": [
    "pd.set_option('display.max_rows', 500)\n",
    "pd.set_option('display.max_columns', 5000)\n",
    "pd.set_option('display.width', 50000)\n"
   ]
  },
  {
   "cell_type": "code",
   "execution_count": null,
   "metadata": {},
   "outputs": [],
   "source": [
    "#filename = \"HCUP_2003_to_2011_Patient_to_Visits.csv\"\n",
    "filename = \"hcup_data\\HCUP_2003_to_2011_Patient_to_Visits_withoutLine40.csv\"\n",
    "outfile = \"hcup_data\\HCUP_2003_to_2011_Patient_visits_encoded120.csv\"\n",
    "icd = pd.read_csv(\"icd_list.csv\", header = 0)"
   ]
  },
  {
   "cell_type": "code",
   "execution_count": null,
   "metadata": {},
   "outputs": [],
   "source": [
    "def coding_120(i):\n",
    "    if i[:1]=='V':\n",
    "        return 0\n",
    "    else:\n",
    "        i = int(i[:3])\n",
    "        code = np.where(( (i>=icd['min']) & (i<=icd['max'])))[0]\n",
    "        if len(code)==0:\n",
    "            return 119\n",
    "        return code[0]+1\n",
    "\n",
    "def coding_1K(i):\n",
    "     if i[:1]=='V': \n",
    "        return 0\n",
    "     else:\n",
    "        return int(i[:3])\n",
    "    \n",
    "def one_hot(l,width):\n",
    "    code = [0]*width \n",
    "    for i in l:\n",
    "        x = [0]*width \n",
    "        x[i] = 1\n",
    "        code = list( map(add, code, x) )\n",
    "    return code \n",
    "#dxs = [0] *118\n",
    "    #dxs[code[0]] = 1 \n",
    "    #x[v][4:] = Dxs_list[1:-1]  // DXs encoded   "
   ]
  }
 ],
 "metadata": {
  "kernelspec": {
   "display_name": "Python 3",
   "language": "python",
   "name": "python3"
  },
  "language_info": {
   "codemirror_mode": {
    "name": "ipython",
    "version": 3
   },
   "file_extension": ".py",
   "mimetype": "text/x-python",
   "name": "python",
   "nbconvert_exporter": "python",
   "pygments_lexer": "ipython3",
   "version": "3.8.5"
  }
 },
 "nbformat": 4,
 "nbformat_minor": 4
}
