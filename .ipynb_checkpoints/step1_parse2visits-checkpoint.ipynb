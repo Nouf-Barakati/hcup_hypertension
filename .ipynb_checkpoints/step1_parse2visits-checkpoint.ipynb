{
 "cells": [
  {
   "cell_type": "code",
   "execution_count": null,
   "metadata": {},
   "outputs": [],
   "source": [
    "# input: patient records:\n",
    "#         each record has the patient ID, race, female,  and the list of all visits seperated by #\n",
    "#         each visit record  hase DaysToEvent, age, list of icd 9 codes and year\n",
    "# output: patient visit records:\n",
    "#       patientID, Race, Female, DaysToEvent, Age,year, list of icd9 codes entered at that visit,hot-code representation of Dxs \n"
   ]
  },
  {
   "cell_type": "code",
   "execution_count": 1,
   "metadata": {},
   "outputs": [],
   "source": [
    "import pandas as pd\n",
    "import numpy as np\n",
    "import time\n",
    "import re\n",
    "import os\n",
    "from operator import add\n"
   ]
  },
  {
   "cell_type": "code",
   "execution_count": 2,
   "metadata": {},
   "outputs": [],
   "source": [
    "pd.set_option('display.max_rows', 500)\n",
    "pd.set_option('display.max_columns', 5000)\n",
    "pd.set_option('display.width', 50000)\n"
   ]
  },
  {
   "cell_type": "code",
   "execution_count": 3,
   "metadata": {},
   "outputs": [],
   "source": [
    "#filename = \"HCUP_2003_to_2011_Patient_to_Visits.csv\"\n",
    "filename = \"hcup_data\\HCUP_2003_to_2011_Patient_to_Visits_withoutLine40.csv\"\n",
    "outfile = \"hcup_data\\HCUP_2003_to_2011_Patient_visits_encoded120.csv\"\n",
    "icd = pd.read_csv(\"icd_list.csv\", header = 0)"
   ]
  },
  {
   "cell_type": "code",
   "execution_count": 4,
   "metadata": {},
   "outputs": [],
   "source": [
    "def coding_120(i):\n",
    "    if i[:1]=='V':\n",
    "        return 0\n",
    "    else:\n",
    "        i = int(i[:3])\n",
    "        code = np.where(( (i>=icd['min']) & (i<=icd['max'])))[0]\n",
    "        if len(code)==0:\n",
    "            return 119\n",
    "        return code[0]+1\n",
    "\n",
    "def coding_1K(i):\n",
    "     if i[:1]=='V': \n",
    "        return 0\n",
    "     else:\n",
    "        return int(i[:3])\n",
    "    \n",
    "def one_hot(l,width):\n",
    "    code = [0]*width \n",
    "    for i in l:\n",
    "        x = [0]*width \n",
    "        x[i] = 1\n",
    "        code = list( map(add, code, x) )\n",
    "    return code \n",
    "#dxs = [0] *118\n",
    "    #dxs[code[0]] = 1 \n",
    "    #x[v][4:] = Dxs_list[1:-1]  // DXs encoded   "
   ]
  },
  {
   "cell_type": "code",
   "execution_count": 7,
   "metadata": {},
   "outputs": [],
   "source": [
    "def ParsePatientsFile( infile, outfile, bunchsize = 1000):\n",
    "    bunch = []\n",
    "    counter = 0\n",
    "    file_length = 0\n",
    "    tic = time.perf_counter()\n",
    "    with open(infile, \"r\") as r, open(outfile, \"w\") as w:\n",
    "        for line in r:\n",
    "            #print(line)\n",
    "            counter +=1\n",
    "            data = line.split(\"|\")\n",
    "            code1, code2 = data[1].split(\",\")\n",
    "            dxlist = data[2].split(\"#\")\n",
    "            l = len(dxlist)\n",
    "            file_length += l\n",
    "            for v in range(l):\n",
    "                dx = dxlist[v].split(\",\")\n",
    "                year = dx[-1].replace(\"\\n\", \"\")\n",
    "                if v==0 :\n",
    "                    day0 = dx[0]\n",
    "                codes = (dx[2:-2])\n",
    "                if len(codes)==0:\n",
    "                    file_length-=1\n",
    "                    continue\n",
    "                codes_dx = [c[2:] for c in codes if (c[:2]=='D_') & (c[3:].isnumeric())] \n",
    "                dx_1K_hot_code = one_hot([coding_120(j) for j in codes_dx],120)\n",
    "                record = ','.join((data[0],code1,code2,str(int(dx[0])-int(day0)),dx[1],year,' '.join(codes), str(dx_1K_hot_code)[1:-1])) + '\\n' \n",
    "                bunch.append(record)\n",
    "            if counter == bunchsize:\n",
    "                w.writelines(bunch)\n",
    "                bunch = []\n",
    "                counter = 0\n",
    "        w.writelines(bunch)\n",
    "    toc = time.perf_counter()\n",
    "    print(f\"Processed 11 million patients in  {toc - tic:0.4f} seconds\") \n",
    "    print(\"number of visit records is: \", str(file_length))\n"
   ]
  },
  {
   "cell_type": "code",
   "execution_count": 8,
   "metadata": {},
   "outputs": [
    {
     "name": "stdout",
     "output_type": "stream",
     "text": [
      "Processed 11 million patients in  60631.8892 seconds\n",
      "number of visit records is:  27182137\n"
     ]
    }
   ],
   "source": [
    "ParsePatientsFile(filename, outfile, 1000)\n"
   ]
  },
  {
   "cell_type": "code",
   "execution_count": 10,
   "metadata": {},
   "outputs": [],
   "source": [
    "def check_file_lines_counter_writing_speed(infile,outfile):\n",
    "    tic = time.perf_counter()\n",
    "    counter = 0\n",
    "    with open(outfile, 'w') as out_file, open(infile, 'r') as in_file:\n",
    "            for line in in_file:\n",
    "                #print(line)\n",
    "                counter +=1\n",
    "                out_file.write(line)\n",
    "    toc = time.perf_counter()\n",
    "    print(f\"writing in {toc - tic:0.4f} seconds\") \n",
    "    print(\"number of records is: \", str(counter))\n"
   ]
  },
  {
   "cell_type": "code",
   "execution_count": 11,
   "metadata": {},
   "outputs": [],
   "source": [
    "infile = \"hcup_data\\HCUP_2003_to_2011_Patient_visits_encoded120.csv\"\n",
    "#infile = \"hcup_data\\HCUP_2003_to_2011_Patient_to_Visits_withoutLine40.csv\"\n",
    "outfile = \"data_test.csv\""
   ]
  },
  {
   "cell_type": "code",
   "execution_count": 12,
   "metadata": {},
   "outputs": [
    {
     "name": "stdout",
     "output_type": "stream",
     "text": [
      "writing in 197.7028 seconds\n",
      "number of records is:  27182137\n"
     ]
    }
   ],
   "source": [
    "check_file_lines_counter_writing_speed(infile,outfile)"
   ]
  },
  {
   "cell_type": "code",
   "execution_count": null,
   "metadata": {},
   "outputs": [],
   "source": []
  },
  {
   "cell_type": "code",
   "execution_count": null,
   "metadata": {},
   "outputs": [],
   "source": []
  },
  {
   "cell_type": "code",
   "execution_count": null,
   "metadata": {},
   "outputs": [],
   "source": []
  }
 ],
 "metadata": {
  "kernelspec": {
   "display_name": "Python 3",
   "language": "python",
   "name": "python3"
  },
  "language_info": {
   "codemirror_mode": {
    "name": "ipython",
    "version": 3
   },
   "file_extension": ".py",
   "mimetype": "text/x-python",
   "name": "python",
   "nbconvert_exporter": "python",
   "pygments_lexer": "ipython3",
   "version": "3.8.3"
  }
 },
 "nbformat": 4,
 "nbformat_minor": 4
}
