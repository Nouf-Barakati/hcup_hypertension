{
 "cells": [
  {
   "cell_type": "code",
   "execution_count": 1,
   "metadata": {},
   "outputs": [],
   "source": [
    "import pandas as pd\n",
    "import numpy as np\n",
    "import time"
   ]
  },
  {
   "cell_type": "code",
   "execution_count": 2,
   "metadata": {},
   "outputs": [],
   "source": [
    "pd.set_option('display.max_rows', 500)\n",
    "pd.set_option('display.max_columns', 5000)\n",
    "pd.set_option('display.width', 5000)"
   ]
  },
  {
   "cell_type": "code",
   "execution_count": null,
   "metadata": {},
   "outputs": [],
   "source": []
  },
  {
   "cell_type": "code",
   "execution_count": 51,
   "metadata": {},
   "outputs": [],
   "source": [
    "filename = \"HCUP_2003_to_2011_Patient_to_Visits.csv\"\n",
    "filename = \"hcup_data\\HCUP_2003_to_2011_Patient_visits.csv\""
   ]
  },
  {
   "cell_type": "code",
   "execution_count": 52,
   "metadata": {},
   "outputs": [],
   "source": [
    "df = pd.read_csv(filename, header = None, nrows=1000)"
   ]
  },
  {
   "cell_type": "code",
   "execution_count": 53,
   "metadata": {},
   "outputs": [
    {
     "data": {
      "text/html": [
       "<div>\n",
       "<style scoped>\n",
       "    .dataframe tbody tr th:only-of-type {\n",
       "        vertical-align: middle;\n",
       "    }\n",
       "\n",
       "    .dataframe tbody tr th {\n",
       "        vertical-align: top;\n",
       "    }\n",
       "\n",
       "    .dataframe thead th {\n",
       "        text-align: right;\n",
       "    }\n",
       "</style>\n",
       "<table border=\"1\" class=\"dataframe\">\n",
       "  <thead>\n",
       "    <tr style=\"text-align: right;\">\n",
       "      <th></th>\n",
       "      <th>0</th>\n",
       "      <th>1</th>\n",
       "      <th>2</th>\n",
       "      <th>3</th>\n",
       "      <th>4</th>\n",
       "      <th>5</th>\n",
       "      <th>6</th>\n",
       "    </tr>\n",
       "  </thead>\n",
       "  <tbody>\n",
       "    <tr>\n",
       "      <th>0</th>\n",
       "      <td>2121810</td>\n",
       "      <td>-9</td>\n",
       "      <td>0</td>\n",
       "      <td>15533</td>\n",
       "      <td>-99</td>\n",
       "      <td>2009</td>\n",
       "      <td>D_55220 P_5359</td>\n",
       "    </tr>\n",
       "    <tr>\n",
       "      <th>1</th>\n",
       "      <td>2121810</td>\n",
       "      <td>-9</td>\n",
       "      <td>0</td>\n",
       "      <td>16402</td>\n",
       "      <td>32</td>\n",
       "      <td>2011</td>\n",
       "      <td>D_68101 D_30593</td>\n",
       "    </tr>\n",
       "    <tr>\n",
       "      <th>2</th>\n",
       "      <td>7052321</td>\n",
       "      <td>4</td>\n",
       "      <td>0</td>\n",
       "      <td>15676</td>\n",
       "      <td>57</td>\n",
       "      <td>2006</td>\n",
       "      <td>D_40291 D_4240 D_25000 D_4168</td>\n",
       "    </tr>\n",
       "    <tr>\n",
       "      <th>3</th>\n",
       "      <td>7052321</td>\n",
       "      <td>4</td>\n",
       "      <td>0</td>\n",
       "      <td>16460</td>\n",
       "      <td>59</td>\n",
       "      <td>2008</td>\n",
       "      <td>D_85245 D_25000 D_2761 D_7821 D_2760 D_4019 D_...</td>\n",
       "    </tr>\n",
       "    <tr>\n",
       "      <th>4</th>\n",
       "      <td>7052321</td>\n",
       "      <td>4</td>\n",
       "      <td>0</td>\n",
       "      <td>16552</td>\n",
       "      <td>57</td>\n",
       "      <td>2009</td>\n",
       "      <td>D_0389 D_78003 D_4019 D_V440 D_99591 D_9070 D_...</td>\n",
       "    </tr>\n",
       "    <tr>\n",
       "      <th>...</th>\n",
       "      <td>...</td>\n",
       "      <td>...</td>\n",
       "      <td>...</td>\n",
       "      <td>...</td>\n",
       "      <td>...</td>\n",
       "      <td>...</td>\n",
       "      <td>...</td>\n",
       "    </tr>\n",
       "    <tr>\n",
       "      <th>995</th>\n",
       "      <td>7017927</td>\n",
       "      <td>-9</td>\n",
       "      <td>-9</td>\n",
       "      <td>14457</td>\n",
       "      <td>67</td>\n",
       "      <td>2010</td>\n",
       "      <td>D_41401 D_4280 D_27801 D_V5866 D_V5861 D_2724 ...</td>\n",
       "    </tr>\n",
       "    <tr>\n",
       "      <th>996</th>\n",
       "      <td>2118636</td>\n",
       "      <td>1</td>\n",
       "      <td>1</td>\n",
       "      <td>13775</td>\n",
       "      <td>75</td>\n",
       "      <td>2009</td>\n",
       "      <td>D_49322 D_73300 D_78701 D_V1582 D_V4577</td>\n",
       "    </tr>\n",
       "    <tr>\n",
       "      <th>997</th>\n",
       "      <td>2118636</td>\n",
       "      <td>1</td>\n",
       "      <td>1</td>\n",
       "      <td>14175</td>\n",
       "      <td>77</td>\n",
       "      <td>2010</td>\n",
       "      <td>D_49121 D_73300 D_4019 D_V462 D_78702</td>\n",
       "    </tr>\n",
       "    <tr>\n",
       "      <th>998</th>\n",
       "      <td>2118636</td>\n",
       "      <td>1</td>\n",
       "      <td>1</td>\n",
       "      <td>14313</td>\n",
       "      <td>77</td>\n",
       "      <td>2010</td>\n",
       "      <td>D_82009 D_2762 D_4169 D_V462 D_V5865 D_V1582 D...</td>\n",
       "    </tr>\n",
       "    <tr>\n",
       "      <th>999</th>\n",
       "      <td>2118636</td>\n",
       "      <td>1</td>\n",
       "      <td>1</td>\n",
       "      <td>14316</td>\n",
       "      <td>77</td>\n",
       "      <td>2010</td>\n",
       "      <td>D_V5789 D_V4364 D_4169 D_V462 D_V5865 D_73300 ...</td>\n",
       "    </tr>\n",
       "  </tbody>\n",
       "</table>\n",
       "<p>1000 rows × 7 columns</p>\n",
       "</div>"
      ],
      "text/plain": [
       "           0  1  2      3   4     5                                                  6\n",
       "0    2121810 -9  0  15533 -99  2009                                     D_55220 P_5359\n",
       "1    2121810 -9  0  16402  32  2011                                    D_68101 D_30593\n",
       "2    7052321  4  0  15676  57  2006                      D_40291 D_4240 D_25000 D_4168\n",
       "3    7052321  4  0  16460  59  2008  D_85245 D_25000 D_2761 D_7821 D_2760 D_4019 D_...\n",
       "4    7052321  4  0  16552  57  2009  D_0389 D_78003 D_4019 D_V440 D_99591 D_9070 D_...\n",
       "..       ... .. ..    ...  ..   ...                                                ...\n",
       "995  7017927 -9 -9  14457  67  2010  D_41401 D_4280 D_27801 D_V5866 D_V5861 D_2724 ...\n",
       "996  2118636  1  1  13775  75  2009            D_49322 D_73300 D_78701 D_V1582 D_V4577\n",
       "997  2118636  1  1  14175  77  2010              D_49121 D_73300 D_4019 D_V462 D_78702\n",
       "998  2118636  1  1  14313  77  2010  D_82009 D_2762 D_4169 D_V462 D_V5865 D_V1582 D...\n",
       "999  2118636  1  1  14316  77  2010  D_V5789 D_V4364 D_4169 D_V462 D_V5865 D_73300 ...\n",
       "\n",
       "[1000 rows x 7 columns]"
      ]
     },
     "execution_count": 53,
     "metadata": {},
     "output_type": "execute_result"
    }
   ],
   "source": [
    "df"
   ]
  },
  {
   "cell_type": "code",
   "execution_count": 54,
   "metadata": {},
   "outputs": [],
   "source": [
    "# checking that all patients are there after the parsing process\n",
    "chunksize = 100000\n",
    "ids = []\n",
    "for chunk in pd.read_csv(filename, chunksize=chunksize, header=None):\n",
    "    ids.append(chunk[chunk.columns[0]])\n"
   ]
  },
  {
   "cell_type": "code",
   "execution_count": 56,
   "metadata": {},
   "outputs": [
    {
     "data": {
      "text/plain": [
       "277"
      ]
     },
     "execution_count": 56,
     "metadata": {},
     "output_type": "execute_result"
    }
   ],
   "source": [
    "print(\"number of chunks :\", str(len(ids)))"
   ]
  },
  {
   "cell_type": "code",
   "execution_count": 61,
   "metadata": {},
   "outputs": [],
   "source": [
    "ids_list = np.concatenate(ids)#.ravel()"
   ]
  },
  {
   "cell_type": "code",
   "execution_count": 65,
   "metadata": {},
   "outputs": [
    {
     "name": "stdout",
     "output_type": "stream",
     "text": [
      "number of visits : 27643641\n",
      "number of patienbts : 11609449\n"
     ]
    }
   ],
   "source": [
    "print(\"number of visits :\", str(len(ids_list)))\n",
    "print(\"number of patienbts :\", str(len(np.unique(ids_list))))"
   ]
  },
  {
   "cell_type": "code",
   "execution_count": null,
   "metadata": {},
   "outputs": [],
   "source": []
  },
  {
   "cell_type": "code",
   "execution_count": null,
   "metadata": {},
   "outputs": [],
   "source": []
  }
 ],
 "metadata": {
  "kernelspec": {
   "display_name": "Python 3",
   "language": "python",
   "name": "python3"
  },
  "language_info": {
   "codemirror_mode": {
    "name": "ipython",
    "version": 3
   },
   "file_extension": ".py",
   "mimetype": "text/x-python",
   "name": "python",
   "nbconvert_exporter": "python",
   "pygments_lexer": "ipython3",
   "version": "3.8.5"
  }
 },
 "nbformat": 4,
 "nbformat_minor": 4
}
